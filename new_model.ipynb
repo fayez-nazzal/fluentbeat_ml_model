{
 "cells": [
  {
   "cell_type": "code",
   "execution_count": 21,
   "id": "09502fd4",
   "metadata": {},
   "outputs": [
    {
     "name": "stdout",
     "output_type": "stream",
     "text": [
      "Success: Data loaded into dataframe.\n"
     ]
    }
   ],
   "source": [
    "import numpy as np # linear algebra\n",
    "import pandas as pd # data processing, CSV file I/O (e.g. pd.read_csv)\n",
    "import matplotlib.pyplot as plt\n",
    "\n",
    "try:\n",
    "  # Load training dataset\n",
    "  test_df = pd.read_csv('./mitbih_test.csv',header = None)\n",
    "  \n",
    "  # Load testing dataset\n",
    "  train_df = pd.read_csv('./mitbih_train.csv',header = None)\n",
    "\n",
    "  print('Success: Data loaded into dataframe.')\n",
    "\n",
    "except Exception as e:\n",
    "    print('Data load error: ',e)"
   ]
  },
  {
   "cell_type": "code",
   "execution_count": 22,
   "id": "f1e0416c",
   "metadata": {},
   "outputs": [],
   "source": [
    "# Setting Dictionary to define the type of Heartbeat for both datasets\n",
    "MIT_Outcome = {0. : 'Normal Beat',\n",
    "               1. : 'Supraventricular premature beat',\n",
    "               2. : 'Premature ventricular contraction',\n",
    "               3. : 'Fusion of ventricular and normal beat'}"
   ]
  },
  {
   "cell_type": "code",
   "execution_count": 23,
   "id": "de53e148",
   "metadata": {},
   "outputs": [],
   "source": [
    "# Rename last column to \"Class\"\n",
    "\n",
    "train_df.rename(columns={187:\"Class\"}, inplace=True)\n",
    "test_df.rename(columns={187:\"Class\"}, inplace=True)"
   ]
  },
  {
   "cell_type": "code",
   "execution_count": 24,
   "id": "ef272900",
   "metadata": {},
   "outputs": [
    {
     "data": {
      "text/plain": [
       "0.0    72471\n",
       "4.0     6431\n",
       "2.0     5788\n",
       "1.0     2223\n",
       "3.0      641\n",
       "Name: Class, dtype: int64"
      ]
     },
     "execution_count": 24,
     "metadata": {},
     "output_type": "execute_result"
    }
   ],
   "source": [
    "# print value counts\n",
    "\n",
    "train_df['Class'].value_counts()"
   ]
  },
  {
   "cell_type": "code",
   "execution_count": 25,
   "id": "7b417aa2",
   "metadata": {},
   "outputs": [],
   "source": [
    "# only use 75 columns\n",
    "\n",
    "max_features = 75"
   ]
  },
  {
   "cell_type": "code",
   "execution_count": 26,
   "id": "2c17d29f",
   "metadata": {},
   "outputs": [],
   "source": [
    "# TRAINING DATA _ get rows where columns max_features - 187 are zero values\n",
    "rows = train_df[train_df.iloc[:,max_features:187].sum(axis=1) == 0].index\n",
    "\n",
    "# remove them... THEY ARE NOISY ROWS\n",
    "train_df.drop(rows, inplace=True)\n",
    "\n",
    "train_df.dropna(inplace=True)\n",
    "train_df.drop_duplicates(inplace=True)"
   ]
  },
  {
   "cell_type": "code",
   "execution_count": 27,
   "id": "56fb2fc7",
   "metadata": {},
   "outputs": [],
   "source": [
    "# TESTNG DATA _ get rows where columns max_features - 187 are zero values\n",
    "rows = test_df[test_df.iloc[:,max_features:187].sum(axis=1) == 0].index\n",
    "\n",
    "test_df.drop(rows, inplace=True)\n",
    "\n",
    "test_df.dropna(inplace=True)\n",
    "test_df.drop_duplicates(inplace=True)"
   ]
  },
  {
   "cell_type": "code",
   "execution_count": 28,
   "id": "095ad813",
   "metadata": {},
   "outputs": [
    {
     "data": {
      "text/plain": [
       "0.0    67715\n",
       "4.0     6337\n",
       "2.0     5231\n",
       "1.0     1794\n",
       "3.0      430\n",
       "Name: Class, dtype: int64"
      ]
     },
     "execution_count": 28,
     "metadata": {},
     "output_type": "execute_result"
    }
   ],
   "source": [
    "train_df['Class'].value_counts()"
   ]
  },
  {
   "cell_type": "code",
   "execution_count": 29,
   "id": "58833165",
   "metadata": {},
   "outputs": [],
   "source": [
    "original_train_df = train_df.copy()\n",
    "original_test_df = test_df.copy()"
   ]
  },
  {
   "cell_type": "code",
   "execution_count": 30,
   "id": "e0bd3a3a",
   "metadata": {},
   "outputs": [
    {
     "name": "stdout",
     "output_type": "stream",
     "text": [
      "training data column counts:\n",
      "188\n"
     ]
    }
   ],
   "source": [
    "# print columns count\n",
    "\n",
    "print('training data column counts:')\n",
    "print(len(train_df.columns))"
   ]
  },
  {
   "cell_type": "code",
   "execution_count": 31,
   "id": "b9e8b8df",
   "metadata": {},
   "outputs": [],
   "source": [
    "# Remove class 4\n",
    "\n",
    "def remove_class(class_number):\n",
    "    filtering_train_df = train_df['Class'] != class_number\n",
    "    filtering_test_df = test_df['Class'] != class_number\n",
    "    train_df.where(filtering_train_df, inplace=True)\n",
    "    test_df.where(filtering_test_df, inplace=True)\n",
    "\n",
    "remove_class(4)"
   ]
  },
  {
   "cell_type": "code",
   "execution_count": 32,
   "id": "6b7556c7",
   "metadata": {},
   "outputs": [],
   "source": [
    "# Remove na and duplicates\n",
    "\n",
    "train_df = train_df.dropna().drop_duplicates()\n",
    "test_df = test_df.dropna().drop_duplicates()"
   ]
  },
  {
   "cell_type": "code",
   "execution_count": 33,
   "id": "e96cf797",
   "metadata": {},
   "outputs": [
    {
     "name": "stdout",
     "output_type": "stream",
     "text": [
      "training data value counts:\n",
      "0.0    67715\n",
      "2.0     5231\n",
      "1.0     1794\n",
      "3.0      430\n",
      "Name: Class, dtype: int64\n",
      "testing data value counts:\n",
      "0.0    16886\n",
      "2.0     1290\n",
      "1.0      454\n",
      "3.0      106\n",
      "Name: Class, dtype: int64\n"
     ]
    }
   ],
   "source": [
    "# print vlue counts for 'Class' column\n",
    "print('training data value counts:')\n",
    "print(train_df['Class'].value_counts())\n",
    "\n",
    "print('testing data value counts:')\n",
    "print(test_df['Class'].value_counts())"
   ]
  },
  {
   "cell_type": "code",
   "execution_count": 34,
   "id": "02592ca0",
   "metadata": {
    "scrolled": true
   },
   "outputs": [
    {
     "data": {
      "text/plain": [
       "<Figure size 360x360 with 0 Axes>"
      ]
     },
     "execution_count": 34,
     "metadata": {},
     "output_type": "execute_result"
    },
    {
     "data": {
      "text/plain": [
       "([<matplotlib.patches.Wedge at 0x7fef283d44c0>,\n",
       "  <matplotlib.patches.Wedge at 0x7fef423484f0>,\n",
       "  <matplotlib.patches.Wedge at 0x7fef28487b20>,\n",
       "  <matplotlib.patches.Wedge at 0x7fef284871f0>],\n",
       " [Text(-1.0470394316349885, 0.3372068039074544, 'normal beat'),\n",
       "  Text(1.0112222148859586, -0.432931440439634, 'Ventricular ectopic beats'),\n",
       "  Text(1.0932402513752484, -0.1217610478477577, 'Supraventricular ectopic beats'),\n",
       "  Text(1.0998223755846714, -0.019767199176671624, 'Fusion Beats')],\n",
       " [Text(-0.5711124172554483, 0.18393098394952054, '90.1%'),\n",
       "  Text(0.5515757535741591, -0.23614442205798214, '7.0%'),\n",
       "  Text(0.596312864386499, -0.06641511700786783, '2.4%'),\n",
       "  Text(0.5999031139552752, -0.010782108641820885, '0.6%')])"
      ]
     },
     "execution_count": 34,
     "metadata": {},
     "output_type": "execute_result"
    },
    {
     "data": {
      "text/plain": [
       "<matplotlib.patches.Circle at 0x7fef841bab90>"
      ]
     },
     "execution_count": 34,
     "metadata": {},
     "output_type": "execute_result"
    },
    {
     "data": {
      "image/png": "[encoded data removed]",
      "text/plain": [
       "<Figure size 360x360 with 1 Axes>"
      ]
     },
     "metadata": {},
     "output_type": "display_data"
    }
   ],
   "source": [
    "import matplotlib.pyplot as plt\n",
    "\n",
    "plt.figure(figsize=(5,5))\n",
    "my_circle=plt.Circle( (0,0), 0.7, color='white')\n",
    "plt.pie(train_df['Class'].value_counts(), labels=['normal beat','Ventricular ectopic beats','Supraventricular ectopic beats','Fusion Beats'], colors=['red','green','blue','skyblue','orange'],autopct='%1.1f%%')\n",
    "p=plt.gcf()\n",
    "p.gca().add_artist(my_circle)\n",
    "plt.show()"
   ]
  },
  {
   "cell_type": "code",
   "execution_count": 35,
   "id": "cb5a5d57",
   "metadata": {},
   "outputs": [],
   "source": [
    "from sklearn.utils import resample\n",
    "\n",
    "df_1=train_df[train_df['Class']==1]\n",
    "df_2=train_df[train_df['Class']==2]\n",
    "df_3=train_df[train_df['Class']==3]\n",
    "df_0=(train_df[train_df['Class']==0])\n",
    "\n",
    "df_0_resample = resample(df_0,replace=False,n_samples=10000,random_state=123)\n",
    "\n",
    "train_df = pd.concat([df_0_resample,df_1,df_2,df_3]).dropna().drop_duplicates()\n",
    "test_df = test_df.dropna().drop_duplicates()"
   ]
  },
  {
   "cell_type": "code",
   "execution_count": 36,
   "id": "66c8d5e9",
   "metadata": {},
   "outputs": [
    {
     "data": {
      "text/plain": [
       "<Figure size 360x360 with 0 Axes>"
      ]
     },
     "execution_count": 36,
     "metadata": {},
     "output_type": "execute_result"
    },
    {
     "data": {
      "text/plain": [
       "([<matplotlib.patches.Wedge at 0x7fef2841cd30>,\n",
       "  <matplotlib.patches.Wedge at 0x7fef2841d480>,\n",
       "  <matplotlib.patches.Wedge at 0x7fef2841d9c0>,\n",
       "  <matplotlib.patches.Wedge at 0x7fef2841e110>],\n",
       " [Text(-0.24973360581177048, 1.0712764004346644, 'normal beat'),\n",
       "  Text(-0.1874592556969693, -1.0839091416966362, 'Ventricular ectopic beats'),\n",
       "  Text(0.9768736138136028, -0.5056856164008939, 'Supraventricular ectopic beats'),\n",
       "  Text(1.0967073646730783, -0.08504678872145455, 'Fusion Beats')],\n",
       " [Text(-0.1362183304427839, 0.5843325820552714, '57.3%'),\n",
       "  Text(-0.10225050310743779, -0.5912231681981651, '30.0%'),\n",
       "  Text(0.5328401529892378, -0.2758285180368512, '10.3%'),\n",
       "  Text(0.5982040170944063, -0.046389157484429754, '2.5%')])"
      ]
     },
     "execution_count": 36,
     "metadata": {},
     "output_type": "execute_result"
    },
    {
     "data": {
      "text/plain": [
       "<matplotlib.patches.Circle at 0x7fef28462410>"
      ]
     },
     "execution_count": 36,
     "metadata": {},
     "output_type": "execute_result"
    },
    {
     "data": {
      "image/png": "[encoded data removed]",
      "text/plain": [
       "<Figure size 360x360 with 1 Axes>"
      ]
     },
     "metadata": {},
     "output_type": "display_data"
    }
   ],
   "source": [
    "plt.figure(figsize=(5,5))\n",
    "my_circle=plt.Circle( (0,0), 0.7, color='white')\n",
    "plt.pie(train_df['Class'].value_counts(), labels=['normal beat','Ventricular ectopic beats','Supraventricular ectopic beats','Fusion Beats'], colors=['red','green','blue','skyblue','orange'],autopct='%1.1f%%')\n",
    "p=plt.gcf()\n",
    "p.gca().add_artist(my_circle)\n",
    "plt.show()"
   ]
  },
  {
   "cell_type": "code",
   "execution_count": 37,
   "id": "0aaaa8d0",
   "metadata": {},
   "outputs": [],
   "source": [
    "from sklearn.model_selection import train_test_split\n",
    "from sklearn.metrics import confusion_matrix\n",
    "from sklearn.preprocessing import normalize\n",
    "from sklearn.svm import SVC\n",
    "from sklearn.model_selection import GridSearchCV\n",
    "from sklearn.metrics import classification_report"
   ]
  },
  {
   "cell_type": "code",
   "execution_count": 38,
   "id": "2ddc0d03",
   "metadata": {},
   "outputs": [],
   "source": [
    "from sklearn.metrics import plot_confusion_matrix\n",
    "import joblib\n",
    "\n",
    "best_svc = None\n",
    "best_svc_score = 0.0\n",
    "best_i = 0\n",
    "best_gamma = 0.0\n",
    "best_kernel = ''\n",
    "best_regularization = 0.0\n",
    "best_normal_sample = 0.0\n",
    "best_max_features = 187\n",
    "svc = None\n",
    "\n",
    "# highest f1 score for abnormal classes ( 1 - 3 )\n",
    "best_abn_score = 0"
   ]
  },
  {
   "cell_type": "code",
   "execution_count": 39,
   "id": "95f3c26c",
   "metadata": {},
   "outputs": [],
   "source": [
    "# SHOW ALL OUTPUT - Pandas and Jupyter\n",
    "pd.set_option('display.max_rows', None)\n",
    "\n",
    "from IPython.core.interactiveshell import InteractiveShell\n",
    "\n",
    "InteractiveShell.ast_node_interactivity = \"all\""
   ]
  },
  {
   "cell_type": "code",
   "execution_count": 40,
   "id": "75c9e00b",
   "metadata": {},
   "outputs": [
    {
     "name": "stdout",
     "output_type": "stream",
     "text": [
      "normal sample: None\n",
      "max features: 75\n",
      "0.0    67715\n",
      "4.0     6337\n",
      "2.0     5231\n",
      "1.0     1794\n",
      "3.0      430\n",
      "Name: Class, dtype: int64\n",
      "training now..\n",
      "{0: 2.2, 1: 20, 2: 3.8, 3: 8}\n",
      "CPU times: user 9min 41s, sys: 260 ms, total: 9min 41s\n",
      "Wall time: 9min 42s\n"
     ]
    },
    {
     "data": {
      "text/html": [
       "<style>#sk-container-id-2 {color: black;background-color: white;}#sk-container-id-2 pre{padding: 0;}#sk-container-id-2 div.sk-toggleable {background-color: white;}#sk-container-id-2 label.sk-toggleable__label {cursor: pointer;display: block;width: 100%;margin-bottom: 0;padding: 0.3em;box-sizing: border-box;text-align: center;}#sk-container-id-2 label.sk-toggleable__label-arrow:before {content: \"▸\";float: left;margin-right: 0.25em;color: #696969;}#sk-container-id-2 label.sk-toggleable__label-arrow:hover:before {color: black;}#sk-container-id-2 div.sk-estimator:hover label.sk-toggleable__label-arrow:before {color: black;}#sk-container-id-2 div.sk-toggleable__content {max-height: 0;max-width: 0;overflow: hidden;text-align: left;background-color: #f0f8ff;}#sk-container-id-2 div.sk-toggleable__content pre {margin: 0.2em;color: black;border-radius: 0.25em;background-color: #f0f8ff;}#sk-container-id-2 input.sk-toggleable__control:checked~div.sk-toggleable__content {max-height: 200px;max-width: 100%;overflow: auto;}#sk-container-id-2 input.sk-toggleable__control:checked~label.sk-toggleable__label-arrow:before {content: \"▾\";}#sk-container-id-2 div.sk-estimator input.sk-toggleable__control:checked~label.sk-toggleable__label {background-color: #d4ebff;}#sk-container-id-2 div.sk-label input.sk-toggleable__control:checked~label.sk-toggleable__label {background-color: #d4ebff;}#sk-container-id-2 input.sk-hidden--visually {border: 0;clip: rect(1px 1px 1px 1px);clip: rect(1px, 1px, 1px, 1px);height: 1px;margin: -1px;overflow: hidden;padding: 0;position: absolute;width: 1px;}#sk-container-id-2 div.sk-estimator {font-family: monospace;background-color: #f0f8ff;border: 1px dotted black;border-radius: 0.25em;box-sizing: border-box;margin-bottom: 0.5em;}#sk-container-id-2 div.sk-estimator:hover {background-color: #d4ebff;}#sk-container-id-2 div.sk-parallel-item::after {content: \"\";width: 100%;border-bottom: 1px solid gray;flex-grow: 1;}#sk-container-id-2 div.sk-label:hover label.sk-toggleable__label {background-color: #d4ebff;}#sk-container-id-2 div.sk-serial::before {content: \"\";position: absolute;border-left: 1px solid gray;box-sizing: border-box;top: 0;bottom: 0;left: 50%;z-index: 0;}#sk-container-id-2 div.sk-serial {display: flex;flex-direction: column;align-items: center;background-color: white;padding-right: 0.2em;padding-left: 0.2em;position: relative;}#sk-container-id-2 div.sk-item {position: relative;z-index: 1;}#sk-container-id-2 div.sk-parallel {display: flex;align-items: stretch;justify-content: center;background-color: white;position: relative;}#sk-container-id-2 div.sk-item::before, #sk-container-id-2 div.sk-parallel-item::before {content: \"\";position: absolute;border-left: 1px solid gray;box-sizing: border-box;top: 0;bottom: 0;left: 50%;z-index: -1;}#sk-container-id-2 div.sk-parallel-item {display: flex;flex-direction: column;z-index: 1;position: relative;background-color: white;}#sk-container-id-2 div.sk-parallel-item:first-child::after {align-self: flex-end;width: 50%;}#sk-container-id-2 div.sk-parallel-item:last-child::after {align-self: flex-start;width: 50%;}#sk-container-id-2 div.sk-parallel-item:only-child::after {width: 0;}#sk-container-id-2 div.sk-dashed-wrapped {border: 1px dashed gray;margin: 0 0.4em 0.5em 0.4em;box-sizing: border-box;padding-bottom: 0.4em;background-color: white;}#sk-container-id-2 div.sk-label label {font-family: monospace;font-weight: bold;display: inline-block;line-height: 1.2em;}#sk-container-id-2 div.sk-label-container {text-align: center;}#sk-container-id-2 div.sk-container {/* jupyter's `normalize.less` sets `[hidden] { display: none; }` but bootstrap.min.css set `[hidden] { display: none !important; }` so we also need the `!important` here to be able to override the default hidden behavior on the sphinx rendered scikit-learn.org. See: https://github.com/scikit-learn/scikit-learn/issues/21755 */display: inline-block !important;position: relative;}#sk-container-id-2 div.sk-text-repr-fallback {display: none;}</style><div id=\"sk-container-id-2\" class=\"sk-top-container\"><div class=\"sk-text-repr-fallback\"><pre>SVC(C=25, cache_size=500, class_weight={0: 2.2, 1: 20, 2: 3.8, 3: 8},\n",
       "    probability=True, random_state=96)</pre><b>In a Jupyter environment, please rerun this cell to show the HTML representation or trust the notebook. <br />On GitHub, the HTML representation is unable to render, please try loading this page with nbviewer.org.</b></div><div class=\"sk-container\" hidden><div class=\"sk-item\"><div class=\"sk-estimator sk-toggleable\"><input class=\"sk-toggleable__control sk-hidden--visually\" id=\"sk-estimator-id-2\" type=\"checkbox\" checked><label for=\"sk-estimator-id-2\" class=\"sk-toggleable__label sk-toggleable__label-arrow\">SVC</label><div class=\"sk-toggleable__content\"><pre>SVC(C=25, cache_size=500, class_weight={0: 2.2, 1: 20, 2: 3.8, 3: 8},\n",
       "    probability=True, random_state=96)</pre></div></div></div></div></div>"
      ],
      "text/plain": [
       "SVC(C=25, cache_size=500, class_weight={0: 2.2, 1: 20, 2: 3.8, 3: 8},\n",
       "    probability=True, random_state=96)"
      ]
     },
     "execution_count": 40,
     "metadata": {},
     "output_type": "execute_result"
    },
    {
     "name": "stdout",
     "output_type": "stream",
     "text": [
      "obtaining f1 score....\n",
      "Abn Score: 0.7179242127902553\n",
      "normal sample: None\n",
      "max features: 75\n",
      "0.0    67715\n",
      "4.0     6337\n",
      "2.0     5231\n",
      "1.0     1794\n",
      "3.0      430\n",
      "Name: Class, dtype: int64\n",
      "training now..\n",
      "{0: 2.2, 1: 32, 2: 4, 3: 14}\n",
      "CPU times: user 10min 48s, sys: 200 ms, total: 10min 48s\n",
      "Wall time: 10min 49s\n"
     ]
    },
    {
     "data": {
      "text/html": [
       "<style>#sk-container-id-3 {color: black;background-color: white;}#sk-container-id-3 pre{padding: 0;}#sk-container-id-3 div.sk-toggleable {background-color: white;}#sk-container-id-3 label.sk-toggleable__label {cursor: pointer;display: block;width: 100%;margin-bottom: 0;padding: 0.3em;box-sizing: border-box;text-align: center;}#sk-container-id-3 label.sk-toggleable__label-arrow:before {content: \"▸\";float: left;margin-right: 0.25em;color: #696969;}#sk-container-id-3 label.sk-toggleable__label-arrow:hover:before {color: black;}#sk-container-id-3 div.sk-estimator:hover label.sk-toggleable__label-arrow:before {color: black;}#sk-container-id-3 div.sk-toggleable__content {max-height: 0;max-width: 0;overflow: hidden;text-align: left;background-color: #f0f8ff;}#sk-container-id-3 div.sk-toggleable__content pre {margin: 0.2em;color: black;border-radius: 0.25em;background-color: #f0f8ff;}#sk-container-id-3 input.sk-toggleable__control:checked~div.sk-toggleable__content {max-height: 200px;max-width: 100%;overflow: auto;}#sk-container-id-3 input.sk-toggleable__control:checked~label.sk-toggleable__label-arrow:before {content: \"▾\";}#sk-container-id-3 div.sk-estimator input.sk-toggleable__control:checked~label.sk-toggleable__label {background-color: #d4ebff;}#sk-container-id-3 div.sk-label input.sk-toggleable__control:checked~label.sk-toggleable__label {background-color: #d4ebff;}#sk-container-id-3 input.sk-hidden--visually {border: 0;clip: rect(1px 1px 1px 1px);clip: rect(1px, 1px, 1px, 1px);height: 1px;margin: -1px;overflow: hidden;padding: 0;position: absolute;width: 1px;}#sk-container-id-3 div.sk-estimator {font-family: monospace;background-color: #f0f8ff;border: 1px dotted black;border-radius: 0.25em;box-sizing: border-box;margin-bottom: 0.5em;}#sk-container-id-3 div.sk-estimator:hover {background-color: #d4ebff;}#sk-container-id-3 div.sk-parallel-item::after {content: \"\";width: 100%;border-bottom: 1px solid gray;flex-grow: 1;}#sk-container-id-3 div.sk-label:hover label.sk-toggleable__label {background-color: #d4ebff;}#sk-container-id-3 div.sk-serial::before {content: \"\";position: absolute;border-left: 1px solid gray;box-sizing: border-box;top: 0;bottom: 0;left: 50%;z-index: 0;}#sk-container-id-3 div.sk-serial {display: flex;flex-direction: column;align-items: center;background-color: white;padding-right: 0.2em;padding-left: 0.2em;position: relative;}#sk-container-id-3 div.sk-item {position: relative;z-index: 1;}#sk-container-id-3 div.sk-parallel {display: flex;align-items: stretch;justify-content: center;background-color: white;position: relative;}#sk-container-id-3 div.sk-item::before, #sk-container-id-3 div.sk-parallel-item::before {content: \"\";position: absolute;border-left: 1px solid gray;box-sizing: border-box;top: 0;bottom: 0;left: 50%;z-index: -1;}#sk-container-id-3 div.sk-parallel-item {display: flex;flex-direction: column;z-index: 1;position: relative;background-color: white;}#sk-container-id-3 div.sk-parallel-item:first-child::after {align-self: flex-end;width: 50%;}#sk-container-id-3 div.sk-parallel-item:last-child::after {align-self: flex-start;width: 50%;}#sk-container-id-3 div.sk-parallel-item:only-child::after {width: 0;}#sk-container-id-3 div.sk-dashed-wrapped {border: 1px dashed gray;margin: 0 0.4em 0.5em 0.4em;box-sizing: border-box;padding-bottom: 0.4em;background-color: white;}#sk-container-id-3 div.sk-label label {font-family: monospace;font-weight: bold;display: inline-block;line-height: 1.2em;}#sk-container-id-3 div.sk-label-container {text-align: center;}#sk-container-id-3 div.sk-container {/* jupyter's `normalize.less` sets `[hidden] { display: none; }` but bootstrap.min.css set `[hidden] { display: none !important; }` so we also need the `!important` here to be able to override the default hidden behavior on the sphinx rendered scikit-learn.org. See: https://github.com/scikit-learn/scikit-learn/issues/21755 */display: inline-block !important;position: relative;}#sk-container-id-3 div.sk-text-repr-fallback {display: none;}</style><div id=\"sk-container-id-3\" class=\"sk-top-container\"><div class=\"sk-text-repr-fallback\"><pre>SVC(C=25, cache_size=500, class_weight={0: 2.2, 1: 32, 2: 4, 3: 14},\n",
       "    probability=True, random_state=96)</pre><b>In a Jupyter environment, please rerun this cell to show the HTML representation or trust the notebook. <br />On GitHub, the HTML representation is unable to render, please try loading this page with nbviewer.org.</b></div><div class=\"sk-container\" hidden><div class=\"sk-item\"><div class=\"sk-estimator sk-toggleable\"><input class=\"sk-toggleable__control sk-hidden--visually\" id=\"sk-estimator-id-3\" type=\"checkbox\" checked><label for=\"sk-estimator-id-3\" class=\"sk-toggleable__label sk-toggleable__label-arrow\">SVC</label><div class=\"sk-toggleable__content\"><pre>SVC(C=25, cache_size=500, class_weight={0: 2.2, 1: 32, 2: 4, 3: 14},\n",
       "    probability=True, random_state=96)</pre></div></div></div></div></div>"
      ],
      "text/plain": [
       "SVC(C=25, cache_size=500, class_weight={0: 2.2, 1: 32, 2: 4, 3: 14},\n",
       "    probability=True, random_state=96)"
      ]
     },
     "execution_count": 40,
     "metadata": {},
     "output_type": "execute_result"
    },
    {
     "name": "stdout",
     "output_type": "stream",
     "text": [
      "obtaining f1 score....\n",
      "Abn Score: 0.7192750190323599\n"
     ]
    }
   ],
   "source": [
    "# Keep trying candidate values until the best one is found, save the best one as a joblib file\n",
    "# I made this to stop worrying about time, I can let it try all the day then wake up and find the best model ready and saved :3\n",
    "# For Overfitting, I think it wont happen much, because we depend on a score that is obtained from an external dataset\n",
    "from sklearn.metrics import f1_score\n",
    "\n",
    "class_weights_list = [\n",
    "    {0: 2.2, 1: 10, 2: 3.8, 3: 8},\n",
    "    # add other weights to try here\n",
    "]\n",
    "\n",
    "# C is the regularization parameter, I got better results using higher C and up, but this might be dangerous and not recommended\n",
    "# I believe this wont produce overfitting, C is not very large?\n",
    "for C in [\n",
    "        25,\n",
    "    # 15,\n",
    "    # 1\n",
    "]:\n",
    "        for class_weights in class_weights_list:\n",
    "            test_df = test_df.dropna().drop_duplicates()\n",
    "\n",
    "            print(\"training now..\")\n",
    "\n",
    "            print(class_weights)\n",
    "\n",
    "            svc = SVC(kernel='rbf', cache_size=500, probability=True,\n",
    "                        random_state=96, class_weight=class_weights, C=C)\n",
    "            \n",
    "            %time svc.fit(train_df.iloc[:, :max_features], train_df['Class'])\n",
    "\n",
    "            abnormal_test_df = test_df[test_df['Class'] != 0]\n",
    "\n",
    "            abnormal_y_true = abnormal_test_df['Class']\n",
    "            \n",
    "            abnormal_y_pred = svc.predict(\n",
    "                abnormal_test_df.iloc[:, :max_features])\n",
    "\n",
    "            print(\"obtaining f1 score....\")\n",
    "            \n",
    "            abn_score = f1_score(\n",
    "                abnormal_y_true, abnormal_y_pred, average='macro')\n",
    "\n",
    "            print('Abn Score:', abn_score)\n",
    "\n",
    "            best_svc = svc\n",
    "            best_normal_sample = normal_sample\n",
    "            best_abn_score = abn_score\n",
    "            best_max_features = max_features\n",
    "\n",
    "            all_score = svc.score(\n",
    "                test_df.iloc[:, :max_features], test_df['Class'])\n",
    "\n",
    "            # convert class weights to str\n",
    "            class_weights_str = str(class_weights)\n",
    "\n",
    "            # write model to file\n",
    "            with open(f\"./new_models/model_C{C}_abnscore{best_abn_score}_score{all_score}_{best_svc_score}_normalsamples_{best_normal_sample}_maxfeatures_{best_max_features}_class_weights_{class_weights_str}.joblib\", \"wb\") as output_file:\n",
    "                joblib.dump(best_svc, output_file)\n"
   ]
  },
  {
   "cell_type": "code",
   "execution_count": null,
   "id": "6c3b596f",
   "metadata": {},
   "outputs": [],
   "source": []
  }
 ],
 "metadata": {
  "interpreter": {
   "hash": "e7370f93d1d0cde622a1f8e1c04877d8463912d04d973331ad4851f04de6915a"
  },
  "kernelspec": {
   "display_name": "Python 3 (ipykernel)",
   "language": "python",
   "name": "python3"
  },
  "language_info": {
   "codemirror_mode": {
    "name": "ipython",
    "version": 3
   },
   "file_extension": ".py",
   "mimetype": "text/x-python",
   "name": "python",
   "nbconvert_exporter": "python",
   "pygments_lexer": "ipython3",
   "version": "3.10.5"
  }
 },
 "nbformat": 4,
 "nbformat_minor": 5
}
